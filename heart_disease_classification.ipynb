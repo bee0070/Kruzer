{
  "nbformat": 4,
  "nbformat_minor": 0,
  "metadata": {
    "colab": {
      "name": "heart_disease_classification.ipynb",
      "provenance": [],
      "collapsed_sections": []
    },
    "kernelspec": {
      "name": "python3",
      "display_name": "Python 3"
    }
  },
  "cells": [
    {
      "cell_type": "code",
      "metadata": {
        "id": "9v91vT-BLGzr"
      },
      "source": [
        "import pandas as pd\r\n",
        "import tensorflow as tf\r\n",
        "\r\n"
      ],
      "execution_count": 1,
      "outputs": []
    },
    {
      "cell_type": "code",
      "metadata": {
        "colab": {
          "base_uri": "https://localhost:8080/"
        },
        "id": "sWbebainLhYx",
        "outputId": "13467ec5-8558-47ef-e6bf-ebf884680f12"
      },
      "source": [
        "from google.colab import drive \r\n",
        "drive.mount('/content/gdrive')\r\n",
        "df = pd.read_csv('gdrive/My Drive/heart-disease.csv')"
      ],
      "execution_count": 2,
      "outputs": [
        {
          "output_type": "stream",
          "text": [
            "Mounted at /content/gdrive\n"
          ],
          "name": "stdout"
        }
      ]
    },
    {
      "cell_type": "code",
      "metadata": {
        "colab": {
          "base_uri": "https://localhost:8080/"
        },
        "id": "vf-SkA0pPOlU",
        "outputId": "a2a17013-35bc-41fc-deba-5d6a10d5acd5"
      },
      "source": [
        "print(df.head())\r\n",
        "df.columns"
      ],
      "execution_count": 3,
      "outputs": [
        {
          "output_type": "stream",
          "text": [
            "   age  sex  cp  trestbps  chol  fbs  ...  exang  oldpeak  slope  ca  thal  target\n",
            "0   63    1   3       145   233    1  ...      0      2.3      0   0     1       1\n",
            "1   37    1   2       130   250    0  ...      0      3.5      0   0     2       1\n",
            "2   41    0   1       130   204    0  ...      0      1.4      2   0     2       1\n",
            "3   56    1   1       120   236    0  ...      0      0.8      2   0     2       1\n",
            "4   57    0   0       120   354    0  ...      1      0.6      2   0     2       1\n",
            "\n",
            "[5 rows x 14 columns]\n"
          ],
          "name": "stdout"
        },
        {
          "output_type": "execute_result",
          "data": {
            "text/plain": [
              "Index(['age', 'sex', 'cp', 'trestbps', 'chol', 'fbs', 'restecg', 'thalach',\n",
              "       'exang', 'oldpeak', 'slope', 'ca', 'thal', 'target'],\n",
              "      dtype='object')"
            ]
          },
          "metadata": {
            "tags": []
          },
          "execution_count": 3
        }
      ]
    },
    {
      "cell_type": "code",
      "metadata": {
        "colab": {
          "base_uri": "https://localhost:8080/",
          "height": 419
        },
        "id": "_r4VXBAtRt5M",
        "outputId": "cb931737-8809-4210-fd4b-040f6074f54e"
      },
      "source": [
        "X = df.drop(\"target\", axis =1)\r\n",
        "y = df[\"target\"]\r\n",
        "X\r\n",
        "\r\n"
      ],
      "execution_count": 4,
      "outputs": [
        {
          "output_type": "execute_result",
          "data": {
            "text/html": [
              "<div>\n",
              "<style scoped>\n",
              "    .dataframe tbody tr th:only-of-type {\n",
              "        vertical-align: middle;\n",
              "    }\n",
              "\n",
              "    .dataframe tbody tr th {\n",
              "        vertical-align: top;\n",
              "    }\n",
              "\n",
              "    .dataframe thead th {\n",
              "        text-align: right;\n",
              "    }\n",
              "</style>\n",
              "<table border=\"1\" class=\"dataframe\">\n",
              "  <thead>\n",
              "    <tr style=\"text-align: right;\">\n",
              "      <th></th>\n",
              "      <th>age</th>\n",
              "      <th>sex</th>\n",
              "      <th>cp</th>\n",
              "      <th>trestbps</th>\n",
              "      <th>chol</th>\n",
              "      <th>fbs</th>\n",
              "      <th>restecg</th>\n",
              "      <th>thalach</th>\n",
              "      <th>exang</th>\n",
              "      <th>oldpeak</th>\n",
              "      <th>slope</th>\n",
              "      <th>ca</th>\n",
              "      <th>thal</th>\n",
              "    </tr>\n",
              "  </thead>\n",
              "  <tbody>\n",
              "    <tr>\n",
              "      <th>0</th>\n",
              "      <td>63</td>\n",
              "      <td>1</td>\n",
              "      <td>3</td>\n",
              "      <td>145</td>\n",
              "      <td>233</td>\n",
              "      <td>1</td>\n",
              "      <td>0</td>\n",
              "      <td>150</td>\n",
              "      <td>0</td>\n",
              "      <td>2.3</td>\n",
              "      <td>0</td>\n",
              "      <td>0</td>\n",
              "      <td>1</td>\n",
              "    </tr>\n",
              "    <tr>\n",
              "      <th>1</th>\n",
              "      <td>37</td>\n",
              "      <td>1</td>\n",
              "      <td>2</td>\n",
              "      <td>130</td>\n",
              "      <td>250</td>\n",
              "      <td>0</td>\n",
              "      <td>1</td>\n",
              "      <td>187</td>\n",
              "      <td>0</td>\n",
              "      <td>3.5</td>\n",
              "      <td>0</td>\n",
              "      <td>0</td>\n",
              "      <td>2</td>\n",
              "    </tr>\n",
              "    <tr>\n",
              "      <th>2</th>\n",
              "      <td>41</td>\n",
              "      <td>0</td>\n",
              "      <td>1</td>\n",
              "      <td>130</td>\n",
              "      <td>204</td>\n",
              "      <td>0</td>\n",
              "      <td>0</td>\n",
              "      <td>172</td>\n",
              "      <td>0</td>\n",
              "      <td>1.4</td>\n",
              "      <td>2</td>\n",
              "      <td>0</td>\n",
              "      <td>2</td>\n",
              "    </tr>\n",
              "    <tr>\n",
              "      <th>3</th>\n",
              "      <td>56</td>\n",
              "      <td>1</td>\n",
              "      <td>1</td>\n",
              "      <td>120</td>\n",
              "      <td>236</td>\n",
              "      <td>0</td>\n",
              "      <td>1</td>\n",
              "      <td>178</td>\n",
              "      <td>0</td>\n",
              "      <td>0.8</td>\n",
              "      <td>2</td>\n",
              "      <td>0</td>\n",
              "      <td>2</td>\n",
              "    </tr>\n",
              "    <tr>\n",
              "      <th>4</th>\n",
              "      <td>57</td>\n",
              "      <td>0</td>\n",
              "      <td>0</td>\n",
              "      <td>120</td>\n",
              "      <td>354</td>\n",
              "      <td>0</td>\n",
              "      <td>1</td>\n",
              "      <td>163</td>\n",
              "      <td>1</td>\n",
              "      <td>0.6</td>\n",
              "      <td>2</td>\n",
              "      <td>0</td>\n",
              "      <td>2</td>\n",
              "    </tr>\n",
              "    <tr>\n",
              "      <th>...</th>\n",
              "      <td>...</td>\n",
              "      <td>...</td>\n",
              "      <td>...</td>\n",
              "      <td>...</td>\n",
              "      <td>...</td>\n",
              "      <td>...</td>\n",
              "      <td>...</td>\n",
              "      <td>...</td>\n",
              "      <td>...</td>\n",
              "      <td>...</td>\n",
              "      <td>...</td>\n",
              "      <td>...</td>\n",
              "      <td>...</td>\n",
              "    </tr>\n",
              "    <tr>\n",
              "      <th>298</th>\n",
              "      <td>57</td>\n",
              "      <td>0</td>\n",
              "      <td>0</td>\n",
              "      <td>140</td>\n",
              "      <td>241</td>\n",
              "      <td>0</td>\n",
              "      <td>1</td>\n",
              "      <td>123</td>\n",
              "      <td>1</td>\n",
              "      <td>0.2</td>\n",
              "      <td>1</td>\n",
              "      <td>0</td>\n",
              "      <td>3</td>\n",
              "    </tr>\n",
              "    <tr>\n",
              "      <th>299</th>\n",
              "      <td>45</td>\n",
              "      <td>1</td>\n",
              "      <td>3</td>\n",
              "      <td>110</td>\n",
              "      <td>264</td>\n",
              "      <td>0</td>\n",
              "      <td>1</td>\n",
              "      <td>132</td>\n",
              "      <td>0</td>\n",
              "      <td>1.2</td>\n",
              "      <td>1</td>\n",
              "      <td>0</td>\n",
              "      <td>3</td>\n",
              "    </tr>\n",
              "    <tr>\n",
              "      <th>300</th>\n",
              "      <td>68</td>\n",
              "      <td>1</td>\n",
              "      <td>0</td>\n",
              "      <td>144</td>\n",
              "      <td>193</td>\n",
              "      <td>1</td>\n",
              "      <td>1</td>\n",
              "      <td>141</td>\n",
              "      <td>0</td>\n",
              "      <td>3.4</td>\n",
              "      <td>1</td>\n",
              "      <td>2</td>\n",
              "      <td>3</td>\n",
              "    </tr>\n",
              "    <tr>\n",
              "      <th>301</th>\n",
              "      <td>57</td>\n",
              "      <td>1</td>\n",
              "      <td>0</td>\n",
              "      <td>130</td>\n",
              "      <td>131</td>\n",
              "      <td>0</td>\n",
              "      <td>1</td>\n",
              "      <td>115</td>\n",
              "      <td>1</td>\n",
              "      <td>1.2</td>\n",
              "      <td>1</td>\n",
              "      <td>1</td>\n",
              "      <td>3</td>\n",
              "    </tr>\n",
              "    <tr>\n",
              "      <th>302</th>\n",
              "      <td>57</td>\n",
              "      <td>0</td>\n",
              "      <td>1</td>\n",
              "      <td>130</td>\n",
              "      <td>236</td>\n",
              "      <td>0</td>\n",
              "      <td>0</td>\n",
              "      <td>174</td>\n",
              "      <td>0</td>\n",
              "      <td>0.0</td>\n",
              "      <td>1</td>\n",
              "      <td>1</td>\n",
              "      <td>2</td>\n",
              "    </tr>\n",
              "  </tbody>\n",
              "</table>\n",
              "<p>303 rows × 13 columns</p>\n",
              "</div>"
            ],
            "text/plain": [
              "     age  sex  cp  trestbps  chol  ...  exang  oldpeak  slope  ca  thal\n",
              "0     63    1   3       145   233  ...      0      2.3      0   0     1\n",
              "1     37    1   2       130   250  ...      0      3.5      0   0     2\n",
              "2     41    0   1       130   204  ...      0      1.4      2   0     2\n",
              "3     56    1   1       120   236  ...      0      0.8      2   0     2\n",
              "4     57    0   0       120   354  ...      1      0.6      2   0     2\n",
              "..   ...  ...  ..       ...   ...  ...    ...      ...    ...  ..   ...\n",
              "298   57    0   0       140   241  ...      1      0.2      1   0     3\n",
              "299   45    1   3       110   264  ...      0      1.2      1   0     3\n",
              "300   68    1   0       144   193  ...      0      3.4      1   2     3\n",
              "301   57    1   0       130   131  ...      1      1.2      1   1     3\n",
              "302   57    0   1       130   236  ...      0      0.0      1   1     2\n",
              "\n",
              "[303 rows x 13 columns]"
            ]
          },
          "metadata": {
            "tags": []
          },
          "execution_count": 4
        }
      ]
    },
    {
      "cell_type": "code",
      "metadata": {
        "id": "t9tXD0qo6hZ3"
      },
      "source": [
        "from sklearn.model_selection import train_test_split\r\n",
        "from tensorflow import keras\r\n",
        "from keras.models import Sequential\r\n",
        "from keras.layers import Dense\r\n",
        "from tensorflow.keras import layers\r\n",
        "from tensorflow.keras import callbacks\r\n",
        "import numpy as np"
      ],
      "execution_count": 5,
      "outputs": []
    },
    {
      "cell_type": "code",
      "metadata": {
        "id": "GcvsTo3t7yBs"
      },
      "source": [
        "#np.random.seed(2)\r\n",
        "\r\n",
        "X_train, X_test, y_train, y_test = train_test_split(X,y,test_size=(0.2))\r\n",
        "\r\n",
        "model = tf.keras.Sequential([\r\n",
        "      layers.Dense(units=12, activation=\"relu\", input_shape=[13]),\r\n",
        "      #layers.Dense(8, activation=\"relu\"),\r\n",
        "      layers.Dense(1, activation='sigmoid')\r\n",
        "      ])\r\n"
      ],
      "execution_count": 74,
      "outputs": []
    },
    {
      "cell_type": "code",
      "metadata": {
        "id": "TZqsI-EZ_axh"
      },
      "source": [
        "model.compile(\r\n",
        "    optimizer='adam',\r\n",
        "    loss='binary_crossentropy',\r\n",
        "    metrics=['accuracy'],         \r\n",
        "    )"
      ],
      "execution_count": 75,
      "outputs": []
    },
    {
      "cell_type": "code",
      "metadata": {
        "id": "QPm0oEBaf9a-"
      },
      "source": [
        "early_stopping = callbacks.EarlyStopping(\r\n",
        "    patience = 5,\r\n",
        "    min_delta = 0.001,\r\n",
        "    restore_best_weights = True\r\n",
        ")"
      ],
      "execution_count": 76,
      "outputs": []
    },
    {
      "cell_type": "code",
      "metadata": {
        "colab": {
          "base_uri": "https://localhost:8080/"
        },
        "id": "AoXA4empFvyT",
        "outputId": "4cd8ee92-e04e-467b-9297-cf8cac27da4c"
      },
      "source": [
        "r = model.fit(\r\n",
        "    X_train,y_train,\r\n",
        "    validation_data = (X_test, y_test),\r\n",
        "    verbose = 2,\r\n",
        "    batch_size=10,\r\n",
        "    callbacks=[early_stopping],\r\n",
        "    epochs=100,\r\n",
        ")"
      ],
      "execution_count": 77,
      "outputs": [
        {
          "output_type": "stream",
          "text": [
            "Epoch 1/100\n",
            "25/25 - 1s - loss: 5.1905 - accuracy: 0.4669 - val_loss: 2.0416 - val_accuracy: 0.5902\n",
            "Epoch 2/100\n",
            "25/25 - 0s - loss: 2.1451 - accuracy: 0.4174 - val_loss: 2.0800 - val_accuracy: 0.2951\n",
            "Epoch 3/100\n",
            "25/25 - 0s - loss: 1.7641 - accuracy: 0.4380 - val_loss: 1.7542 - val_accuracy: 0.3115\n",
            "Epoch 4/100\n",
            "25/25 - 0s - loss: 1.6341 - accuracy: 0.4421 - val_loss: 1.9838 - val_accuracy: 0.3443\n",
            "Epoch 5/100\n",
            "25/25 - 0s - loss: 1.3942 - accuracy: 0.4793 - val_loss: 1.3422 - val_accuracy: 0.3443\n",
            "Epoch 6/100\n",
            "25/25 - 0s - loss: 1.2223 - accuracy: 0.4711 - val_loss: 1.3498 - val_accuracy: 0.3934\n",
            "Epoch 7/100\n",
            "25/25 - 0s - loss: 1.0346 - accuracy: 0.5207 - val_loss: 1.0441 - val_accuracy: 0.4262\n",
            "Epoch 8/100\n",
            "25/25 - 0s - loss: 0.8868 - accuracy: 0.5661 - val_loss: 0.8564 - val_accuracy: 0.4590\n",
            "Epoch 9/100\n",
            "25/25 - 0s - loss: 0.8356 - accuracy: 0.5744 - val_loss: 0.6338 - val_accuracy: 0.6721\n",
            "Epoch 10/100\n",
            "25/25 - 0s - loss: 0.6930 - accuracy: 0.6281 - val_loss: 0.8021 - val_accuracy: 0.5082\n",
            "Epoch 11/100\n",
            "25/25 - 0s - loss: 0.6733 - accuracy: 0.6322 - val_loss: 0.5831 - val_accuracy: 0.7049\n",
            "Epoch 12/100\n",
            "25/25 - 0s - loss: 0.6597 - accuracy: 0.6446 - val_loss: 0.5646 - val_accuracy: 0.6885\n",
            "Epoch 13/100\n",
            "25/25 - 0s - loss: 0.6184 - accuracy: 0.6736 - val_loss: 0.5948 - val_accuracy: 0.6721\n",
            "Epoch 14/100\n",
            "25/25 - 0s - loss: 0.5922 - accuracy: 0.7149 - val_loss: 0.4878 - val_accuracy: 0.7705\n",
            "Epoch 15/100\n",
            "25/25 - 0s - loss: 0.5636 - accuracy: 0.7273 - val_loss: 0.5166 - val_accuracy: 0.7213\n",
            "Epoch 16/100\n",
            "25/25 - 0s - loss: 0.5350 - accuracy: 0.7231 - val_loss: 0.4665 - val_accuracy: 0.7213\n",
            "Epoch 17/100\n",
            "25/25 - 0s - loss: 0.5683 - accuracy: 0.7066 - val_loss: 0.4668 - val_accuracy: 0.7541\n",
            "Epoch 18/100\n",
            "25/25 - 0s - loss: 0.5134 - accuracy: 0.7479 - val_loss: 0.6076 - val_accuracy: 0.6557\n",
            "Epoch 19/100\n",
            "25/25 - 0s - loss: 0.4964 - accuracy: 0.7438 - val_loss: 0.5192 - val_accuracy: 0.7541\n",
            "Epoch 20/100\n",
            "25/25 - 0s - loss: 0.4802 - accuracy: 0.7521 - val_loss: 0.4434 - val_accuracy: 0.7541\n",
            "Epoch 21/100\n",
            "25/25 - 0s - loss: 0.5071 - accuracy: 0.7397 - val_loss: 0.4721 - val_accuracy: 0.7541\n",
            "Epoch 22/100\n",
            "25/25 - 0s - loss: 0.4867 - accuracy: 0.7521 - val_loss: 0.4465 - val_accuracy: 0.8033\n",
            "Epoch 23/100\n",
            "25/25 - 0s - loss: 0.4766 - accuracy: 0.7645 - val_loss: 0.4296 - val_accuracy: 0.7705\n",
            "Epoch 24/100\n",
            "25/25 - 0s - loss: 0.4894 - accuracy: 0.7562 - val_loss: 0.4410 - val_accuracy: 0.8033\n",
            "Epoch 25/100\n",
            "25/25 - 0s - loss: 0.4619 - accuracy: 0.7645 - val_loss: 0.5368 - val_accuracy: 0.7377\n",
            "Epoch 26/100\n",
            "25/25 - 0s - loss: 0.5099 - accuracy: 0.7562 - val_loss: 0.4204 - val_accuracy: 0.8033\n",
            "Epoch 27/100\n",
            "25/25 - 0s - loss: 0.4768 - accuracy: 0.7769 - val_loss: 0.6274 - val_accuracy: 0.6557\n",
            "Epoch 28/100\n",
            "25/25 - 0s - loss: 0.4734 - accuracy: 0.7769 - val_loss: 0.4274 - val_accuracy: 0.8033\n",
            "Epoch 29/100\n",
            "25/25 - 0s - loss: 0.4652 - accuracy: 0.7603 - val_loss: 0.4162 - val_accuracy: 0.8033\n",
            "Epoch 30/100\n",
            "25/25 - 0s - loss: 0.4449 - accuracy: 0.7769 - val_loss: 0.4246 - val_accuracy: 0.7869\n",
            "Epoch 31/100\n",
            "25/25 - 0s - loss: 0.4368 - accuracy: 0.7893 - val_loss: 0.4963 - val_accuracy: 0.7541\n",
            "Epoch 32/100\n",
            "25/25 - 0s - loss: 0.4447 - accuracy: 0.7893 - val_loss: 0.4163 - val_accuracy: 0.8361\n",
            "Epoch 33/100\n",
            "25/25 - 0s - loss: 0.4327 - accuracy: 0.7975 - val_loss: 0.4637 - val_accuracy: 0.7869\n",
            "Epoch 34/100\n",
            "25/25 - 0s - loss: 0.4337 - accuracy: 0.7851 - val_loss: 0.4082 - val_accuracy: 0.7869\n",
            "Epoch 35/100\n",
            "25/25 - 0s - loss: 0.4165 - accuracy: 0.7645 - val_loss: 0.4777 - val_accuracy: 0.7869\n",
            "Epoch 36/100\n",
            "25/25 - 0s - loss: 0.4122 - accuracy: 0.8306 - val_loss: 0.4159 - val_accuracy: 0.8361\n",
            "Epoch 37/100\n",
            "25/25 - 0s - loss: 0.4148 - accuracy: 0.8223 - val_loss: 0.4241 - val_accuracy: 0.8197\n",
            "Epoch 38/100\n",
            "25/25 - 0s - loss: 0.4232 - accuracy: 0.8140 - val_loss: 0.4050 - val_accuracy: 0.8033\n",
            "Epoch 39/100\n",
            "25/25 - 0s - loss: 0.4110 - accuracy: 0.8099 - val_loss: 0.4407 - val_accuracy: 0.7869\n",
            "Epoch 40/100\n",
            "25/25 - 0s - loss: 0.4167 - accuracy: 0.8099 - val_loss: 0.4036 - val_accuracy: 0.8033\n",
            "Epoch 41/100\n",
            "25/25 - 0s - loss: 0.4119 - accuracy: 0.8017 - val_loss: 0.4522 - val_accuracy: 0.7869\n",
            "Epoch 42/100\n",
            "25/25 - 0s - loss: 0.4051 - accuracy: 0.8017 - val_loss: 0.4118 - val_accuracy: 0.8197\n",
            "Epoch 43/100\n",
            "25/25 - 0s - loss: 0.4078 - accuracy: 0.8099 - val_loss: 0.4661 - val_accuracy: 0.7705\n",
            "Epoch 44/100\n",
            "25/25 - 0s - loss: 0.4291 - accuracy: 0.8058 - val_loss: 0.4050 - val_accuracy: 0.8361\n",
            "Epoch 45/100\n",
            "25/25 - 0s - loss: 0.4002 - accuracy: 0.8099 - val_loss: 0.4071 - val_accuracy: 0.8197\n"
          ],
          "name": "stdout"
        }
      ]
    },
    {
      "cell_type": "code",
      "metadata": {
        "colab": {
          "base_uri": "https://localhost:8080/",
          "height": 391
        },
        "id": "0Si4edKAZWCm",
        "outputId": "beee9e99-06bb-4b70-ec30-b56a55481179"
      },
      "source": [
        "import matplotlib.pyplot as plt\r\n",
        "%matplotlib inline\r\n",
        "\r\n",
        "plt.figure(figsize=(10,6))\r\n",
        "\r\n",
        "plt.plot(r.history['val_loss'], label='val_loss')\r\n",
        "plt.plot(r.history['loss'], label='loss')\r\n",
        "plt.legend()"
      ],
      "execution_count": 78,
      "outputs": [
        {
          "output_type": "execute_result",
          "data": {
            "text/plain": [
              "<matplotlib.legend.Legend at 0x7f30096374d0>"
            ]
          },
          "metadata": {
            "tags": []
          },
          "execution_count": 78
        },
        {
          "output_type": "display_data",
          "data": {
            "image/png": "[encoded data removed]",
            "text/plain": [
              "<Figure size 720x432 with 1 Axes>"
            ]
          },
          "metadata": {
            "tags": [],
            "needs_background": "light"
          }
        }
      ]
    },
    {
      "cell_type": "code",
      "metadata": {
        "colab": {
          "base_uri": "https://localhost:8080/"
        },
        "id": "EckuvGBAHIQp",
        "outputId": "f93a9c8e-2bd5-494d-cd30-6b230cc57770"
      },
      "source": [
        "print('Train score : ', model.evaluate(X_train, y_train))\r\n",
        "print('Test score : ', model.evaluate(X_test, y_test))"
      ],
      "execution_count": 79,
      "outputs": [
        {
          "output_type": "stream",
          "text": [
            "8/8 [==============================] - 0s 2ms/step - loss: 0.4134 - accuracy: 0.8017\n",
            "Train score :  [0.41336551308631897, 0.8016529083251953]\n",
            "2/2 [==============================] - 0s 3ms/step - loss: 0.4036 - accuracy: 0.8033\n",
            "Test score :  [0.40358421206474304, 0.8032786846160889]\n"
          ],
          "name": "stdout"
        }
      ]
    },
    {
      "cell_type": "code",
      "metadata": {
        "id": "PXiHR010jF_B"
      },
      "source": [
        ""
      ],
      "execution_count": 47,
      "outputs": []
    }
  ]
}